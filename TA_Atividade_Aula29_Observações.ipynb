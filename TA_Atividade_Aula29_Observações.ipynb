{
  "nbformat": 4,
  "nbformat_minor": 0,
  "metadata": {
    "colab": {
      "name": "TA - Atividade_Aula29_Observações",
      "provenance": [],
      "collapsed_sections": [],
      "authorship_tag": "ABX9TyPtFzOxXt2K1y8s9Ep3mkG3",
      "include_colab_link": true
    },
    "kernelspec": {
      "name": "python3",
      "display_name": "Python 3"
    }
  },
  "cells": [
    {
      "cell_type": "markdown",
      "metadata": {
        "id": "view-in-github",
        "colab_type": "text"
      },
      "source": [
        "<a href=\"https://colab.research.google.com/github/pedro-git/Regress-o_Linear_Python_Meteorologia/blob/main/TA_Atividade_Aula29_Observa%C3%A7%C3%B5es.ipynb\" target=\"_parent\"><img src=\"https://colab.research.google.com/assets/colab-badge.svg\" alt=\"Open In Colab\"/></a>"
      ]
    },
    {
      "cell_type": "markdown",
      "metadata": {
        "id": "aQlTvYKO9Lkh"
      },
      "source": [
        "# *Montando o Drive (Diretório)*\n"
      ]
    },
    {
      "cell_type": "code",
      "metadata": {
        "id": "BXd0KTGu9ZjT",
        "colab": {
          "base_uri": "https://localhost:8080/"
        },
        "outputId": "0cd2d445-c1f2-488a-c191-cabd40869561"
      },
      "source": [
        "#Carregando o seu Drive\n",
        "from google.colab import drive\n",
        "#Pedindo autorização para acessaar os arquivos\n",
        "drive.mount(\"/content/drive\")"
      ],
      "execution_count": 117,
      "outputs": [
        {
          "output_type": "stream",
          "text": [
            "Drive already mounted at /content/drive; to attempt to forcibly remount, call drive.mount(\"/content/drive\", force_remount=True).\n"
          ],
          "name": "stdout"
        }
      ]
    },
    {
      "cell_type": "markdown",
      "metadata": {
        "id": "sKcU_XjW-HbM"
      },
      "source": [
        "# Importando as *Bibliotecas*"
      ]
    },
    {
      "cell_type": "code",
      "metadata": {
        "id": "XTFrtE-89e5T"
      },
      "source": [
        "import pandas as pd\n",
        "import matplotlib.pyplot as plt\n",
        "import numpy as np\n"
      ],
      "execution_count": 116,
      "outputs": []
    },
    {
      "cell_type": "markdown",
      "metadata": {
        "id": "rR1HjZafCJBn"
      },
      "source": [
        "# *Abrindo os dados vindo do drive*\n"
      ]
    },
    {
      "cell_type": "code",
      "metadata": {
        "id": "JJg3qVIlCT29"
      },
      "source": [
        "#Abrindo a Tabela com os dados em relação ao numero atribuido ao professor.\n",
        "Dados = pd.read_excel(\"/content/drive/MyDrive/Analise de Dados - Python /Helber - Ultima Atividade - Observações 1 /Dados_25_PedroLucas.xlsx\")\n",
        "Dados\n",
        "\n",
        "#Identificando as colunas e removendo as não usuais\n",
        "Dados.columns\n",
        "Dados.columns = [\"Remover1\",\"Remover2\",\"Var_Independente1_TA\",\"Var_Independente2_TB\",\"Var_Dependente_Tref\"]\n",
        "Dados_1 = Dados.drop(columns=[\"Remover1\",\"Remover2\"])  #Arrumando colunas (Removi duas colunas indesejadas)\n",
        "Dados_f = Dados_1.drop(0) # Dados finais arrumados ( Removida uma linha indesejada)\n",
        "Dados_f_valores = Dados_f.values\n",
        "print(Dados_f)\n",
        "\n"
      ],
      "execution_count": null,
      "outputs": []
    },
    {
      "cell_type": "markdown",
      "metadata": {
        "id": "0dm7qWeAcxS3"
      },
      "source": [
        "#*Manipulando os dados e criação dos gráficos*"
      ]
    },
    {
      "cell_type": "code",
      "metadata": {
        "id": "mKUCopsAmXi0"
      },
      "source": [
        "# Começando o grafico, indentificando os eixos \r\n",
        "\r\n",
        "x = Dados_f[\"Var_Independente1_TA\"].values  #Eixo Conhecido \r\n",
        "y = Dados_f[\"Var_Dependente_Tref\"].values   #Eixo de Referência\r\n",
        "\r\n",
        "# Criando o graficos \r\n",
        "\r\n",
        "plt.scatter(x , y, label = \"Ajuste\") ;\r\n",
        "plt.xlabel(\"TA\") ;\r\n",
        "plt.ylabel(\"T ref\") ;\r\n",
        "plt.legend() ;\r\n"
      ],
      "execution_count": null,
      "outputs": []
    },
    {
      "cell_type": "markdown",
      "metadata": {
        "id": "75_2J0mYc503"
      },
      "source": [
        "#*Ajuste Linear dos Dados espalhados*\r\n",
        "\r\n"
      ]
    },
    {
      "cell_type": "code",
      "metadata": {
        "id": "Oj3amrKj1IsY"
      },
      "source": [
        "#Criando uma linha de ajuste linear \r\n",
        " \r\n",
        "from sklearn.linear_model import LinearRegression\r\n",
        "\r\n",
        "Ajuste = LinearRegression() \r\n",
        "x = x.reshape(-1,1) # redemensiona os dados para trabalhar com a biblioteca\r\n",
        "Ajuste.fit(x,y) #Pegando melhores valores possíveis\r\n",
        "\r\n",
        "\r\n",
        "Acuracia_Ajuste = Ajuste.score(x,y) #O quao bem feito foi a linearização dos pontos fornecidos, aproximando\r\n",
        "print(\"A Acuracia do ajuste foi de = {:0.2f}\".format(Acuracia_Ajuste))\r\n",
        "\r\n",
        "#Coeficientes da reta\r\n",
        "a = Ajuste.coef_[0] #Coeficiente Angular \r\n",
        "b = Ajuste.intercept_ #Coeficiente Linear \r\n",
        "print(\"Coeficiente angular(m) = {:0.2f}\".format(a))\r\n",
        "print(\"Coeficiente linear(n) = {:0.2f}\".format(b))\r\n",
        "\r\n",
        "# Criação da reta \r\n",
        "reta = a*x + b\r\n",
        "\r\n",
        "#Vizualização do Gráfico contendo reta e dados \r\n",
        "\r\n",
        "plt.scatter(x , y, label = \"Dados\") ;\r\n",
        "plt.plot(x,reta,label=\"Reta de Ajuste\",color=\"green\")\r\n",
        "plt.xlabel(\"TA\") ;\r\n",
        "plt.ylabel(\"T ref\") ;\r\n",
        "plt.legend() ;\r\n",
        "\r\n",
        "\r\n"
      ],
      "execution_count": null,
      "outputs": []
    },
    {
      "cell_type": "markdown",
      "metadata": {
        "id": "Wz_JRjx5cdTq"
      },
      "source": [
        "#*Correção e Salvando os Dados*\r\n",
        "\r\n"
      ]
    },
    {
      "cell_type": "code",
      "metadata": {
        "id": "gpERz6SiSFjL"
      },
      "source": [
        "# Adicionando a correção\n",
        "\n",
        "ta = (x*a)+b\n",
        "print(ta)\n",
        "\n",
        "#Salvando os dados em uma planilha do excel\n",
        "Planilhas_dados_corrigidos = pd.DataFrame({\"TA corrigido\":[ta],\"Coeficiente Angular\":[a], \"Coeficiente Linear\":[b],\"Acurracia\":Acuracia_Ajuste})\n",
        "with pd.ExcelWriter(\"Dados_Finais.xlsx\") as writer:\n",
        "  Planilhas_dados_corrigidos.to_excel(writer, sheet_name = \"Ta_corrigido\")\n",
        "  writer.save()\n",
        "\n",
        "\n",
        "\n",
        "\n",
        "\n"
      ],
      "execution_count": null,
      "outputs": []
    }
  ]
}