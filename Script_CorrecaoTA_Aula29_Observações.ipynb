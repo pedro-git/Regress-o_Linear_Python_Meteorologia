{
  "nbformat": 4,
  "nbformat_minor": 0,
  "metadata": {
    "colab": {
      "name": "TA - Atividade_Aula29_Observações",
      "provenance": [],
      "collapsed_sections": [],
      "toc_visible": true,
      "authorship_tag": "ABX9TyN9X+nC4P006/jdLYgMsQ1J"
    },
    "kernelspec": {
      "name": "python3",
      "display_name": "Python 3"
    }
  },
  "cells": [
    {
      "cell_type": "markdown",
      "metadata": {
        "id": "aQlTvYKO9Lkh"
      },
      "source": [
        "# *Montando o Drive (Diretório)*\n"
      ]
    },
    {
      "cell_type": "code",
      "metadata": {
        "id": "BXd0KTGu9ZjT",
        "colab": {
          "base_uri": "https://localhost:8080/"
        },
        "outputId": "a749038a-498c-4d85-e72c-272f43908714"
      },
      "source": [
        "#Carregando o seu Drive\n",
        "from google.colab import drive\n",
        "#Pedindo autorização para acessaar os arquivos\n",
        "drive.mount(\"/content/drive\")"
      ],
      "execution_count": 5,
      "outputs": [
        {
          "output_type": "stream",
          "text": [
            "Mounted at /content/drive\n"
          ],
          "name": "stdout"
        }
      ]
    },
    {
      "cell_type": "markdown",
      "metadata": {
        "id": "sKcU_XjW-HbM"
      },
      "source": [
        "# Importando as *Bibliotecas*"
      ]
    },
    {
      "cell_type": "code",
      "metadata": {
        "id": "XTFrtE-89e5T"
      },
      "source": [
        "import pandas as pd\n",
        "import matplotlib.pyplot as plt\n",
        "import numpy as np\n"
      ],
      "execution_count": 4,
      "outputs": []
    },
    {
      "cell_type": "markdown",
      "metadata": {
        "id": "rR1HjZafCJBn"
      },
      "source": [
        "# *Abrindo os dados vindo do drive*\n"
      ]
    },
    {
      "cell_type": "code",
      "metadata": {
        "id": "JJg3qVIlCT29",
        "colab": {
          "base_uri": "https://localhost:8080/"
        },
        "outputId": "8b75f92f-66c5-4779-effa-fc36ae10644d"
      },
      "source": [
        "#Abrindo a Tabela com os dados em relação ao numero atribuido ao professor.\n",
        "Dados = pd.read_excel(\"/content/drive/MyDrive/Analise de Dados - Python /Helber - Ultima Atividade - Observações 1 /Dados_25_PedroLucas.xlsx\")\n",
        "Dados\n",
        "\n",
        "#Identificando as colunas e removendo as não usuais\n",
        "Dados.columns\n",
        "Dados.columns = [\"Remover1\",\"Remover2\",\"Var_Independente1_TA\",\"Var_Independente2_TB\",\"Var_Dependente_Tref\"]\n",
        "Dados_1 = Dados.drop(columns=[\"Remover1\",\"Remover2\"])  #Arrumando colunas (Removi duas colunas indesejadas)\n",
        "Dados_f = Dados_1.drop(0) # Dados finais arrumados ( Removida uma linha indesejada)\n",
        "Dados_f_valores = Dados_f.values\n",
        "print(Dados_f)\n",
        "\n"
      ],
      "execution_count": 20,
      "outputs": [
        {
          "output_type": "stream",
          "text": [
            "   Var_Independente1_TA Var_Independente2_TB Var_Dependente_Tref\n",
            "1                   7.3                  7.5                 6.6\n",
            "2                   7.6                  7.8                   7\n",
            "3                   7.7                  7.9                   7\n",
            "4                   7.8                    8                 7.1\n",
            "5                   7.6                  7.8                 6.9\n",
            "6                   7.6                  7.7                 6.8\n",
            "7                   7.3                  7.5                 6.6\n",
            "8                   6.9                  7.1                 6.2\n",
            "9                   6.9                  7.1                 6.2\n",
            "10                  6.9                  7.1                 6.2\n",
            "11                  7.1                  7.3                 6.4\n",
            "12                  6.9                  7.1                 6.2\n",
            "13                  6.7                  6.9                 5.9\n",
            "14                  6.7                  6.9                   6\n",
            "15                  6.6                  6.8                 5.8\n",
            "16                  6.1                  6.3                 5.4\n",
            "17                  6.2                  6.4                 5.5\n",
            "18                  6.3                  6.5                 5.6\n",
            "19                  6.3                  6.5                 5.6\n",
            "20                  6.2                  6.4                 5.5\n",
            "21                    6                  6.2                 5.3\n",
            "22                  5.9                  6.1                 5.2\n",
            "23                  5.8                    6                 5.1\n",
            "24                  5.7                  5.9                   5\n",
            "25                  5.6                  5.8                 4.9\n",
            "26                  5.6                  5.8                 4.9\n",
            "27                  5.6                  5.8                 4.8\n",
            "28                  5.5                  5.7                 4.8\n",
            "29                  5.5                  5.7                 4.8\n",
            "30                  5.4                  5.6                 4.7\n",
            "31                  5.4                  5.6                 4.7\n",
            "32                  5.4                  5.6                 4.7\n",
            "33                  5.4                  5.6                 4.7\n",
            "34                  5.3                  5.5                 4.6\n",
            "35                  5.3                  5.5                 4.5\n",
            "36                  5.3                  5.5                 4.6\n"
          ],
          "name": "stdout"
        }
      ]
    },
    {
      "cell_type": "markdown",
      "metadata": {
        "id": "0dm7qWeAcxS3"
      },
      "source": [
        "#*Manipulando os dados e criação dos gráficos*"
      ]
    },
    {
      "cell_type": "code",
      "metadata": {
        "id": "mKUCopsAmXi0",
        "colab": {
          "base_uri": "https://localhost:8080/",
          "height": 449
        },
        "outputId": "2aa18494-0cc2-4288-d13e-5b57ab039ff7"
      },
      "source": [
        "# Começando o grafico, indentificando os eixos \r\n",
        "\r\n",
        "x = Dados_f[\"Var_Independente1_TA\"].values  #Eixo Conhecido \r\n",
        "y = Dados_f[\"Var_Dependente_Tref\"].values   #Eixo de Referência\r\n",
        "\r\n",
        "\r\n",
        "# Criando o graficos \r\n",
        "\r\n",
        "plt.scatter(x , y, label = \"Dados Espaçados\") ;\r\n",
        "plt.xlabel(\"TA\") ;\r\n",
        "plt.ylabel(\"TRef\") ;\r\n",
        "plt.legend() ;\r\n"
      ],
      "execution_count": 24,
      "outputs": [
        {
          "output_type": "display_data",
          "data": {
            "image/png": "[encoded data removed]",
            "text/plain": [
              "<Figure size 640x480 with 1 Axes>"
            ]
          },
          "metadata": {
            "tags": []
          }
        }
      ]
    },
    {
      "cell_type": "markdown",
      "metadata": {
        "id": "75_2J0mYc503"
      },
      "source": [
        "#*Ajuste Linear dos Dados espalhados*\r\n",
        "\r\n",
        "\r\n",
        "\r\n",
        "\r\n"
      ]
    },
    {
      "cell_type": "code",
      "metadata": {
        "id": "Oj3amrKj1IsY",
        "colab": {
          "base_uri": "https://localhost:8080/",
          "height": 534
        },
        "outputId": "3f58179b-b123-4985-e5af-d12b7973f6ab"
      },
      "source": [
        "#Criando uma linha de ajuste linear \r\n",
        " \r\n",
        "from sklearn.linear_model import LinearRegression\r\n",
        "\r\n",
        "Ajuste = LinearRegression() \r\n",
        "x = x.reshape(-1,1) # redemensiona os dados para trabalhar com a biblioteca\r\n",
        "Ajuste.fit(x,y) #Pegando melhores valores possíveis\r\n",
        "\r\n",
        "\r\n",
        "Acuracia_Ajuste = Ajuste.score(x,y) #O quao bem feito foi a linearização dos pontos fornecidos, aproximando\r\n",
        "print(\"A Acuracia do ajuste foi de = {:0.2f}\".format(Acuracia_Ajuste))\r\n",
        "\r\n",
        "#Coeficientes da reta\r\n",
        "a = Ajuste.coef_[0] #Coeficiente Angular \r\n",
        "b = Ajuste.intercept_ #Coeficiente Linear \r\n",
        "print(\"Coeficiente angular(m) = {:0.2f}\".format(a))\r\n",
        "print(\"Coeficiente linear(n) = {:0.2f}\".format(b))\r\n",
        "\r\n",
        "# Criação da reta \r\n",
        "reta = a*x + b\r\n",
        "\r\n",
        "# Comando para determinar o tamanho segundo o qual os textos grafados no gráfico serão impressos na tela:\r\n",
        "SMALL_SIZE = 14                        \r\n",
        "MEDIUM_SIZE = 20                       \r\n",
        "BIGGER_SIZE = 20   \r\n",
        "plt.rc('font', size=SMALL_SIZE)          \r\n",
        "plt.rc('axes', titlesize=SMALL_SIZE)     \r\n",
        "plt.rc('axes', labelsize=SMALL_SIZE)    \r\n",
        "plt.rc('xtick', labelsize=SMALL_SIZE)    \r\n",
        "plt.rc('ytick', labelsize=SMALL_SIZE)    \r\n",
        "plt.rc('legend', fontsize=SMALL_SIZE)    \r\n",
        "plt.rc('figure', titlesize=BIGGER_SIZE)  \r\n",
        "\r\n",
        "#Vizualização do Gráfico contendo reta e dados \r\n",
        "\r\n",
        "plt.scatter(x , y, label = \"Dados\", color=\"blue\") ;\r\n",
        "plt.plot(x,reta,label=\"Reta de Ajuste\",color=\"green\",linewidth=2)\r\n",
        "plt.title(\"Ajuste Linear\")\r\n",
        "plt.grid(True)\r\n",
        "plt.style.use(\"default\")\r\n",
        "plt.xlabel(\"TA\",weight=\"bold\") ;\r\n",
        "plt.ylabel(\"TRef\", weight=\"bold\") ;\r\n",
        "plt.legend() ;\r\n",
        "plt.savefig(\"Ajuste_Linear_TA.png\", dpi=500)\r\n",
        "\r\n",
        "\r\n"
      ],
      "execution_count": 25,
      "outputs": [
        {
          "output_type": "stream",
          "text": [
            "A Acuracia do ajuste foi de = 1.00\n",
            "Coeficiente angular(m) = 1.00\n",
            "Coeficiente linear(n) = -0.74\n"
          ],
          "name": "stdout"
        },
        {
          "output_type": "display_data",
          "data": {
            "image/png": "[encoded data removed]",
            "text/plain": [
              "<Figure size 640x480 with 1 Axes>"
            ]
          },
          "metadata": {
            "tags": []
          }
        }
      ]
    },
    {
      "cell_type": "markdown",
      "metadata": {
        "id": "Wz_JRjx5cdTq"
      },
      "source": [
        "#*Correção e Salvando os Dados*\r\n",
        "\r\n"
      ]
    },
    {
      "cell_type": "code",
      "metadata": {
        "id": "gpERz6SiSFjL",
        "colab": {
          "base_uri": "https://localhost:8080/"
        },
        "outputId": "cb7f62fe-0120-49e7-ee00-393df1618116"
      },
      "source": [
        "# Adicionando a correção\n",
        "\n",
        "ta = (x*a)+b\n",
        "print(ta)\n",
        "\n",
        "#Salvando os dados em uma planilha do excel\n",
        "Planilhas_dados_corrigidos = pd.DataFrame({\"TA corrigido\":[ta],\"Coeficiente Angular\":[a], \"Coeficiente Linear\":[b],\"Acurracia\":Acuracia_Ajuste})\n",
        "with pd.ExcelWriter(\"Dados_Finais.xlsx\") as writer:\n",
        "  Planilhas_dados_corrigidos.to_excel(writer, sheet_name = \"Ta_corrigido\")\n",
        "  writer.save()\n",
        "\n",
        "\n",
        "\n",
        "\n",
        "\n"
      ],
      "execution_count": 26,
      "outputs": [
        {
          "output_type": "stream",
          "text": [
            "[[6.593320189644649]\n",
            " [6.894672111909118]\n",
            " [6.995122752663942]\n",
            " [7.095573393418765]\n",
            " [6.894672111909118]\n",
            " [6.894672111909118]\n",
            " [6.593320189644649]\n",
            " [6.191517626625356]\n",
            " [6.191517626625356]\n",
            " [6.191517626625356]\n",
            " [6.392418908135002]\n",
            " [6.191517626625356]\n",
            " [5.9906163451157095]\n",
            " [5.9906163451157095]\n",
            " [5.890165704360886]\n",
            " [5.387912500586769]\n",
            " [5.488363141341593]\n",
            " [5.588813782096416]\n",
            " [5.588813782096416]\n",
            " [5.488363141341593]\n",
            " [5.2874618598319465]\n",
            " [5.1870112190771245]\n",
            " [5.086560578322301]\n",
            " [4.986109937567478]\n",
            " [4.885659296812654]\n",
            " [4.885659296812654]\n",
            " [4.885659296812654]\n",
            " [4.785208656057831]\n",
            " [4.785208656057831]\n",
            " [4.684758015303008]\n",
            " [4.684758015303008]\n",
            " [4.684758015303008]\n",
            " [4.684758015303008]\n",
            " [4.584307374548184]\n",
            " [4.584307374548184]\n",
            " [4.584307374548184]]\n"
          ],
          "name": "stdout"
        }
      ]
    }
  ]
}