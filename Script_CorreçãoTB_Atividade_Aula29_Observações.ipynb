{
  "nbformat": 4,
  "nbformat_minor": 0,
  "metadata": {
    "colab": {
      "name": "TB - Atividade_Aula29_Observações",
      "provenance": [],
      "authorship_tag": "ABX9TyMSAMQr//tG7Cj4VKHobpMv"
    },
    "kernelspec": {
      "name": "python3",
      "display_name": "Python 3"
    }
  },
  "cells": [
    {
      "cell_type": "markdown",
      "metadata": {
        "id": "KeXuw8JGc2rV"
      },
      "source": [
        "# *Montando o Drive (Diretório)*"
      ]
    },
    {
      "cell_type": "code",
      "metadata": {
        "colab": {
          "base_uri": "https://localhost:8080/"
        },
        "id": "rVoY8Cdtc7lh",
        "outputId": "471c8b99-b630-4e80-a3f4-27ccc1eaa03b"
      },
      "source": [
        "#Carregando o seu Drive\r\n",
        "from google.colab import drive\r\n",
        "#Pedindo autorização para acessaar os arquivos\r\n",
        "drive.mount(\"/content/drive\")"
      ],
      "execution_count": 1,
      "outputs": [
        {
          "output_type": "stream",
          "text": [
            "Mounted at /content/drive\n"
          ],
          "name": "stdout"
        }
      ]
    },
    {
      "cell_type": "markdown",
      "metadata": {
        "id": "Sys5eFbHc-jA"
      },
      "source": [
        "# Importando as *Bibliotecas*\r\n"
      ]
    },
    {
      "cell_type": "code",
      "metadata": {
        "id": "jpoAeLz5dBcI"
      },
      "source": [
        "import pandas as pd\r\n",
        "import matplotlib.pyplot as plt\r\n",
        "import numpy as np"
      ],
      "execution_count": 2,
      "outputs": []
    },
    {
      "cell_type": "markdown",
      "metadata": {
        "id": "j9y2MsTqdJM2"
      },
      "source": [
        "# *Abrindo os dados vindo do drive*"
      ]
    },
    {
      "cell_type": "code",
      "metadata": {
        "colab": {
          "base_uri": "https://localhost:8080/"
        },
        "id": "diebNgEhdLzv",
        "outputId": "ea6cbf37-bcbd-4077-bd48-b223df5fb34a"
      },
      "source": [
        "#Abrindo a Tabela com os dados em relação ao numero atribuido ao professor.\r\n",
        "Dados = pd.read_excel(\"/content/drive/MyDrive/Analise de Dados - Python /Helber - Ultima Atividade - Observações 1 /Dados_25_PedroLucas.xlsx\")\r\n",
        "Dados\r\n",
        "\r\n",
        "#Identificando as colunas e removendo as não usuais\r\n",
        "Dados.columns\r\n",
        "Dados.columns = [\"Remover1\",\"Remover2\",\"Var_Independente1_TA\",\"Var_Independente2_TB\",\"Var_Dependente_Tref\"]\r\n",
        "Dados_1 = Dados.drop(columns=[\"Remover1\",\"Remover2\"])  #Arrumando colunas (Removi duas colunas indesejadas)\r\n",
        "Dados_f = Dados_1.drop(0) # Dados finais arrumados ( Removida uma linha indesejada)\r\n",
        "Dados_f_valores = Dados_f.values\r\n",
        "print(Dados_f)"
      ],
      "execution_count": 18,
      "outputs": [
        {
          "output_type": "stream",
          "text": [
            "   Var_Independente1_TA Var_Independente2_TB Var_Dependente_Tref\n",
            "1                   7.3                  7.5                 6.6\n",
            "2                   7.6                  7.8                   7\n",
            "3                   7.7                  7.9                   7\n",
            "4                   7.8                    8                 7.1\n",
            "5                   7.6                  7.8                 6.9\n",
            "6                   7.6                  7.7                 6.8\n",
            "7                   7.3                  7.5                 6.6\n",
            "8                   6.9                  7.1                 6.2\n",
            "9                   6.9                  7.1                 6.2\n",
            "10                  6.9                  7.1                 6.2\n",
            "11                  7.1                  7.3                 6.4\n",
            "12                  6.9                  7.1                 6.2\n",
            "13                  6.7                  6.9                 5.9\n",
            "14                  6.7                  6.9                   6\n",
            "15                  6.6                  6.8                 5.8\n",
            "16                  6.1                  6.3                 5.4\n",
            "17                  6.2                  6.4                 5.5\n",
            "18                  6.3                  6.5                 5.6\n",
            "19                  6.3                  6.5                 5.6\n",
            "20                  6.2                  6.4                 5.5\n",
            "21                    6                  6.2                 5.3\n",
            "22                  5.9                  6.1                 5.2\n",
            "23                  5.8                    6                 5.1\n",
            "24                  5.7                  5.9                   5\n",
            "25                  5.6                  5.8                 4.9\n",
            "26                  5.6                  5.8                 4.9\n",
            "27                  5.6                  5.8                 4.8\n",
            "28                  5.5                  5.7                 4.8\n",
            "29                  5.5                  5.7                 4.8\n",
            "30                  5.4                  5.6                 4.7\n",
            "31                  5.4                  5.6                 4.7\n",
            "32                  5.4                  5.6                 4.7\n",
            "33                  5.4                  5.6                 4.7\n",
            "34                  5.3                  5.5                 4.6\n",
            "35                  5.3                  5.5                 4.5\n",
            "36                  5.3                  5.5                 4.6\n"
          ],
          "name": "stdout"
        }
      ]
    },
    {
      "cell_type": "markdown",
      "metadata": {
        "id": "PBB_2Y_rdQQV"
      },
      "source": [
        "#*Manipulando os dados e criação dos gráficos*"
      ]
    },
    {
      "cell_type": "code",
      "metadata": {
        "colab": {
          "base_uri": "https://localhost:8080/",
          "height": 449
        },
        "id": "2ve4Tf9bdZnr",
        "outputId": "528c83ed-284d-49c5-800e-849b127549ef"
      },
      "source": [
        "# Começando o grafico, indentificando os eixos \r\n",
        "\r\n",
        "x = Dados_f[\"Var_Independente2_TB\"].values  #Eixo Conhecido \r\n",
        "y = Dados_f[\"Var_Dependente_Tref\"].values   #Eixo de Referência\r\n",
        "\r\n",
        "# Criando o graficos \r\n",
        "\r\n",
        "plt.scatter(x , y, label = \"Dados Espaçados\") ;\r\n",
        "plt.xlabel(\"TB\") ;\r\n",
        "plt.ylabel(\"TRef\") ;\r\n",
        "plt.legend() ;"
      ],
      "execution_count": 15,
      "outputs": [
        {
          "output_type": "display_data",
          "data": {
            "image/png": "[encoded data removed]",
            "text/plain": [
              "<Figure size 640x480 with 1 Axes>"
            ]
          },
          "metadata": {
            "tags": []
          }
        }
      ]
    },
    {
      "cell_type": "markdown",
      "metadata": {
        "id": "9WyoYsoVhA7L"
      },
      "source": [
        "#*Ajuste Linear dos Dados espalhados*\r\n"
      ]
    },
    {
      "cell_type": "code",
      "metadata": {
        "colab": {
          "base_uri": "https://localhost:8080/",
          "height": 534
        },
        "id": "FkeK3QM1hFYU",
        "outputId": "68343d26-09dd-4696-d24e-239f9d5343a7"
      },
      "source": [
        "#Criando uma linha de ajuste linear \r\n",
        " \r\n",
        "from sklearn.linear_model import LinearRegression\r\n",
        "\r\n",
        "Ajuste = LinearRegression() \r\n",
        "x = x.reshape(-1,1) # redemensiona os dados para trabalhar com a biblioteca\r\n",
        "Ajuste.fit(x,y) #Pegando melhores valores possíveis\r\n",
        "\r\n",
        "\r\n",
        "Acuracia_Ajuste = Ajuste.score(x,y) #O quao bem feito foi a linearização dos pontos fornecidos, aproximando\r\n",
        "print(\"A Acuracia do ajuste foi de = {:0.2f}\".format(Acuracia_Ajuste))\r\n",
        "\r\n",
        "#Coeficientes da reta\r\n",
        "a = Ajuste.coef_[0] #Coeficiente Angular \r\n",
        "b = Ajuste.intercept_ #Coeficiente Linear \r\n",
        "print(\"Coeficiente angular(m) = {:0.2f}\".format(a))\r\n",
        "print(\"Coeficiente linear(n) = {:0.2f}\".format(b))\r\n",
        "\r\n",
        "# Criação da reta \r\n",
        "reta = a*x + b\r\n",
        "\r\n",
        "# Comando para determinar o tamanho segundo o qual os textos grafados no gráfico serão impressos na tela:\r\n",
        "SMALL_SIZE = 14                        \r\n",
        "MEDIUM_SIZE = 20                       \r\n",
        "BIGGER_SIZE = 20   \r\n",
        "plt.rc('font', size=SMALL_SIZE)          \r\n",
        "plt.rc('axes', titlesize=SMALL_SIZE)     \r\n",
        "plt.rc('axes', labelsize=SMALL_SIZE)    \r\n",
        "plt.rc('xtick', labelsize=SMALL_SIZE)    \r\n",
        "plt.rc('ytick', labelsize=SMALL_SIZE)    \r\n",
        "plt.rc('legend', fontsize=SMALL_SIZE)    \r\n",
        "plt.rc('figure', titlesize=BIGGER_SIZE)  \r\n",
        "\r\n",
        "#Vizualização do Gráfico contendo reta e dados \r\n",
        "\r\n",
        "plt.scatter(x , y, label = \"Dados\", color=\"blue\") ;\r\n",
        "plt.plot(x,reta,label=\"Reta de Ajuste\",color=\"green\",linewidth=2)\r\n",
        "plt.title(\"Correção de TB\")\r\n",
        "plt.grid(True)\r\n",
        "plt.style.use(\"default\")\r\n",
        "plt.xlabel(\"TB\", weight=\"bold\") ;\r\n",
        "plt.ylabel(\"TRef\", weight=\"bold\") ;\r\n",
        "plt.legend() ;\r\n",
        "plt.savefig(\"Ajuste_Linear_TB.png\", dpi=1000)\r\n",
        "plt.show()"
      ],
      "execution_count": 19,
      "outputs": [
        {
          "output_type": "stream",
          "text": [
            "A Acuracia do ajuste foi de = 1.00\n",
            "Coeficiente angular(m) = 1.01\n",
            "Coeficiente linear(n) = -0.97\n"
          ],
          "name": "stdout"
        },
        {
          "output_type": "display_data",
          "data": {
            "image/png": "[encoded data removed]",
            "text/plain": [
              "<Figure size 640x480 with 1 Axes>"
            ]
          },
          "metadata": {
            "tags": []
          }
        }
      ]
    },
    {
      "cell_type": "markdown",
      "metadata": {
        "id": "XT6utnBwhZep"
      },
      "source": [
        "#*Correção e Salvando os Dados*\r\n"
      ]
    },
    {
      "cell_type": "code",
      "metadata": {
        "colab": {
          "base_uri": "https://localhost:8080/"
        },
        "id": "ih-rlWEOhcvL",
        "outputId": "9341736a-269f-4736-e682-9067e573b63f"
      },
      "source": [
        "# Adicionando a correção\r\n",
        "\r\n",
        "tb = (x*a)+b\r\n",
        "print(tb)\r\n",
        "\r\n",
        "#Salvando os dados em uma planilha do excel\r\n",
        "Planilhas_dados_corrigidos = pd.DataFrame({\"TB corrigido\":[tb],\"Coeficiente Angular\":[a], \"Coeficiente Linear\":[b],\"Acurracia\":Acuracia_Ajuste})\r\n",
        "with pd.ExcelWriter(\"Dados_Finais_2.xlsx\") as writer:\r\n",
        "  Planilhas_dados_corrigidos.to_excel(writer, sheet_name = \"Tb_corrigido\")\r\n",
        "  writer.save()"
      ],
      "execution_count": 16,
      "outputs": [
        {
          "output_type": "stream",
          "text": [
            "[6.6015250880542675 6.904524269772185 7.005523997011491 7.106523724250797\n",
            " 6.904524269772185 6.803524542532879 6.6015250880542675 6.197526179097043\n",
            " 6.197526179097043 6.197526179097043 6.399525633575655 6.197526179097043\n",
            " 5.995526724618432 5.995526724618432 5.894526997379125 5.389528361182595\n",
            " 5.490528088421901 5.591527815661207 5.591527815661207 5.490528088421901\n",
            " 5.288528633943289 5.1875289067039825 5.0865291794646765\n",
            " 4.9855294522253715 4.884529724986065 4.884529724986065 4.884529724986065\n",
            " 4.783529997746759 4.783529997746759 4.682530270507453 4.682530270507453\n",
            " 4.682530270507453 4.682530270507453 4.581530543268147 4.581530543268147\n",
            " 4.581530543268147]\n"
          ],
          "name": "stdout"
        }
      ]
    },
    {
      "cell_type": "markdown",
      "metadata": {
        "id": "Y_h6z8w4yr8V"
      },
      "source": [
        "# *RMSE(RAIZ DO ERRO QUADRÁTICO MÉDIO*)"
      ]
    },
    {
      "cell_type": "code",
      "metadata": {
        "colab": {
          "base_uri": "https://localhost:8080/"
        },
        "id": "WdLWjAPJyzrP",
        "outputId": "c511d48d-c156-4e9f-9ded-e1c04a3e55e8"
      },
      "source": [
        "from sklearn.metrics import mean_absolute_error,mean_squared_error,mean_squared_log_error #Importando as formulas direto da biblioteca\r\n",
        "\r\n",
        "#Erro Médio Quadrático \r\n",
        "MSE = mean_squared_error(y,tb) \r\n",
        "\r\n",
        "\r\n",
        "#Raiz do Erro Médio Quadrático\r\n",
        "\r\n",
        "RMSE = MSE**1/2\r\n",
        "print(RMSE)\r\n",
        "\r\n"
      ],
      "execution_count": 25,
      "outputs": [
        {
          "output_type": "stream",
          "text": [
            "0.0006272079451105353\n"
          ],
          "name": "stdout"
        }
      ]
    }
  ]
}